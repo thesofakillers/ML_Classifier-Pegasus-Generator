{
 "cells": [
  {
   "cell_type": "markdown",
   "metadata": {
    "colab_type": "text",
    "id": "view-in-github"
   },
   "source": [
    "<a href=\"https://colab.research.google.com/github/thesofakillers/ML_Classifier-Pegasus-Generator/blob/generator/coursework_pegasus.ipynb\" target=\"_parent\"><img src=\"https://colab.research.google.com/assets/colab-badge.svg\" alt=\"Open In Colab\"/></a>"
   ]
  },
  {
   "cell_type": "code",
   "execution_count": null,
   "metadata": {
    "colab": {},
    "colab_type": "code",
    "id": "X0XeNJMELfIb"
   },
   "outputs": [],
   "source": [
    "%%capture\n",
    "from os.path import exists\n",
    "from wheel.pep425tags import get_abbr_impl, get_impl_ver, get_abi_tag\n",
    "platform = '{}{}-{}'.format(get_abbr_impl(), get_impl_ver(), get_abi_tag())\n",
    "cuda_output = !ldconfig -p|grep cudart.so|sed -e 's/.*\\.\\([0-9]*\\)\\.\\([0-9]*\\)$/cu\\1\\2/'\n",
    "accelerator = cuda_output[0] if exists('/dev/nvidia0') else 'cpu'\n",
    "!pip install -q http://download.pytorch.org/whl/{accelerator}/torch-0.4.1-{platform}-linux_x86_64.whl torchvision\n",
    "!pip install livelossplot"
   ]
  },
  {
   "cell_type": "markdown",
   "metadata": {
    "colab_type": "text",
    "id": "6N22Uz-kLiZW"
   },
   "source": [
    "**Main imports**"
   ]
  },
  {
   "cell_type": "code",
   "execution_count": null,
   "metadata": {
    "colab": {},
    "colab_type": "code",
    "id": "MK1Jl7nkLnPA"
   },
   "outputs": [],
   "source": [
    "import math\n",
    "import numpy as np\n",
    "import torch\n",
    "import torch.nn as nn\n",
    "import torch.nn.functional as F\n",
    "import torchvision\n",
    "import matplotlib.pyplot as plt\n",
    "from livelossplot import PlotLosses\n",
    "\n",
    "device = torch.device('cuda') if torch.cuda.is_available() else torch.device('cpu')"
   ]
  },
  {
   "cell_type": "markdown",
   "metadata": {
    "colab_type": "text",
    "id": "run1dh_hM0oO"
   },
   "source": [
    "**Import dataset**"
   ]
  },
  {
   "cell_type": "code",
   "execution_count": null,
   "metadata": {
    "colab": {
     "base_uri": "https://localhost:8080/",
     "height": 86
    },
    "colab_type": "code",
    "id": "bK383zeDM4Ac",
    "outputId": "5a7bb37e-9b16-4f87-9c7e-6b07c5ed8d2e"
   },
   "outputs": [],
   "source": [
    "# helper function to make getting another batch of data easier\n",
    "def cycle(iterable):\n",
    "    while True:\n",
    "        for x in iterable:\n",
    "            yield x\n",
    "\n",
    "class_names = ['airplane', 'car', 'bird', 'cat', 'deer', 'dog', 'frog', 'horse', 'ship', 'truck']\n",
    "\n",
    "train_loader = torch.utils.data.DataLoader(\n",
    "    torchvision.datasets.CIFAR10('data', train=True, download=True, transform=torchvision.transforms.Compose([\n",
    "        torchvision.transforms.ToTensor()\n",
    "    ])),\n",
    "shuffle=True, batch_size=16, drop_last=True)\n",
    "\n",
    "test_loader = torch.utils.data.DataLoader(\n",
    "    torchvision.datasets.CIFAR10('data', train=False, download=True, transform=torchvision.transforms.Compose([\n",
    "        torchvision.transforms.ToTensor()\n",
    "    ])),\n",
    "shuffle=False, batch_size=16, drop_last=True)\n",
    "\n",
    "train_iterator = iter(cycle(train_loader))\n",
    "test_iterator = iter(cycle(test_loader))\n",
    "\n",
    "print(f'> Size of training dataset {len(train_loader.dataset)}')\n",
    "print(f'> Size of test dataset {len(test_loader.dataset)}')"
   ]
  },
  {
   "cell_type": "markdown",
   "metadata": {
    "colab_type": "text",
    "id": "q-FdW5HnimG2"
   },
   "source": [
    "**View some of the test dataset**"
   ]
  },
  {
   "cell_type": "code",
   "execution_count": null,
   "metadata": {
    "colab": {
     "base_uri": "https://localhost:8080/",
     "height": 589
    },
    "colab_type": "code",
    "id": "BtJs-qxHRLXz",
    "outputId": "c504705d-1713-4251-8698-6a260807f0a9"
   },
   "outputs": [],
   "source": [
    "plt.figure(figsize=(10,10))\n",
    "for i in range(25):\n",
    "    plt.subplot(5,5,i+1)\n",
    "    plt.xticks([])\n",
    "    plt.yticks([])\n",
    "    plt.grid(False)\n",
    "    plt.imshow(test_loader.dataset[i][0].permute(0,2,1).contiguous().permute(2,1,0), cmap=plt.cm.binary)\n",
    "    plt.xlabel(class_names[test_loader.dataset[i][1]])"
   ]
  },
  {
   "cell_type": "markdown",
   "metadata": {
    "colab_type": "text",
    "id": "Qnjh12UbNFpV"
   },
   "source": [
    "**Define a simple model**"
   ]
  },
  {
   "cell_type": "code",
   "execution_count": null,
   "metadata": {
    "colab": {
     "base_uri": "https://localhost:8080/",
     "height": 34
    },
    "colab_type": "code",
    "id": "RGbLY6X-NH4O",
    "outputId": "018313f3-afa4-43ad-c72d-1f51fe5aedb6"
   },
   "outputs": [],
   "source": [
    "# define the model (a simple autoencoder)\n",
    "class MyNetwork(nn.Module):\n",
    "    def __init__(self):\n",
    "        super(MyNetwork, self).__init__()\n",
    "        layers = nn.ModuleList()\n",
    "        layers.append(nn.Linear(in_features=3*32*32, out_features=512))\n",
    "        layers.append(nn.ReLU())\n",
    "        layers.append(nn.Linear(in_features=512, out_features=32))\n",
    "        layers.append(nn.ReLU())\n",
    "        layers.append(nn.Linear(in_features=32, out_features=512))\n",
    "        layers.append(nn.ReLU())\n",
    "        layers.append(nn.Linear(in_features=512, out_features=3*32*32))\n",
    "        layers.append(nn.Sigmoid())\n",
    "        self.layers = layers\n",
    "\n",
    "    def forward(self, x):\n",
    "        z = self.encode(x)\n",
    "        x = self.decode(z)\n",
    "        return x\n",
    "\n",
    "    # encode (flatten as linear, then run first half of network)\n",
    "    def encode(self, x):\n",
    "        x = x.view(x.size(0), -1)\n",
    "        for i in range(4):\n",
    "            x = self.layers[i](x)\n",
    "        return x\n",
    "\n",
    "    # decode (run second half of network then unflatten)\n",
    "    def decode(self, x):\n",
    "        for i in range(4,8):\n",
    "            x = self.layers[i](x)\n",
    "        x = x.view(x.size(0), 3, 32, 32)\n",
    "        return x\n",
    "\n",
    "N = MyNetwork().to(device)\n",
    "\n",
    "print(f'> Number of network parameters {len(torch.nn.utils.parameters_to_vector(N.parameters()))}')\n",
    "\n",
    "# initialise the optimiser\n",
    "optimiser = torch.optim.Adam(N.parameters(), lr=0.001)\n",
    "epoch = 0\n",
    "liveplot = PlotLosses()"
   ]
  },
  {
   "cell_type": "markdown",
   "metadata": {
    "colab_type": "text",
    "id": "N1UBl0PJjY-f"
   },
   "source": [
    "**Main training loop**"
   ]
  },
  {
   "cell_type": "code",
   "execution_count": null,
   "metadata": {
    "colab": {
     "base_uri": "https://localhost:8080/",
     "height": 357
    },
    "colab_type": "code",
    "id": "kb5909Y8D_zx",
    "outputId": "f24a34b5-d39d-420b-cfd6-e0572b9d2fa5"
   },
   "outputs": [],
   "source": [
    "# training loop, feel free to also train on the test dataset if you like for generating the pegasus\n",
    "while (epoch<10):\n",
    "    \n",
    "    # arrays for metrics\n",
    "    logs = {}\n",
    "    train_loss_arr = np.zeros(0)\n",
    "\n",
    "    # iterate over some of the train dateset\n",
    "    for i in range(1000):\n",
    "        x,t = next(train_iterator)\n",
    "        x,t = x.to(device), t.to(device)\n",
    "\n",
    "        optimiser.zero_grad()\n",
    "        p = N(x)\n",
    "        loss = ((p-x)**2).mean() # simple l2 loss\n",
    "        loss.backward()\n",
    "        optimiser.step()\n",
    "\n",
    "        train_loss_arr = np.append(train_loss_arr, loss.cpu().data)\n",
    "\n",
    "    # NOTE: live plot library has dumb naming forcing our 'test' to be called 'validation'\n",
    "    liveplot.update({\n",
    "        'loss': train_loss_arr.mean()\n",
    "    })\n",
    "    liveplot.draw()\n",
    "\n",
    "    epoch = epoch+1"
   ]
  },
  {
   "cell_type": "markdown",
   "metadata": {
    "colab_type": "text",
    "id": "MTFqiEHzMOVw"
   },
   "source": [
    "**Generate a Pegasus by interpolating between the latent space encodings of a horse and a bird**"
   ]
  },
  {
   "cell_type": "code",
   "execution_count": null,
   "metadata": {
    "colab": {
     "base_uri": "https://localhost:8080/",
     "height": 364
    },
    "colab_type": "code",
    "id": "nqv3w6b0nKbr",
    "outputId": "b7943d50-41cc-4710-8be8-eae3585fdbcf"
   },
   "outputs": [],
   "source": [
    "example_1 = torchvision.transforms.ToTensor()(test_loader.dataset.test_data[13]).to(device)  # horse\n",
    "example_2 = torchvision.transforms.ToTensor()(test_loader.dataset.test_data[160]).to(device) # bird\n",
    "\n",
    "example_1_code = N.encode(example_1.unsqueeze(0))\n",
    "example_2_code = N.encode(example_2.unsqueeze(0))\n",
    "\n",
    "# this is some sad blurry excuse of a Pegasus, hopefully you can make a better one\n",
    "bad_pegasus = N.decode(0.9*example_1_code + 0.1*example_2_code).squeeze(0)\n",
    "\n",
    "plt.grid(False)\n",
    "plt.imshow(bad_pegasus.cpu().data.permute(0,2,1).contiguous().permute(2,1,0), cmap=plt.cm.binary)\n",
    "\n",
    "#for i in range(len(test_loader.dataset.test_labels)):\n",
    "#  print(class_names[test_loader.dataset.test_labels[i]] + '\\t idx: ' + str(i))"
   ]
  },
  {
   "cell_type": "code",
   "execution_count": null,
   "metadata": {
    "colab": {},
    "colab_type": "code",
    "id": "oek8E0uRC7aQ"
   },
   "outputs": [],
   "source": []
  }
 ],
 "metadata": {
  "accelerator": "GPU",
  "colab": {
   "collapsed_sections": [],
   "include_colab_link": true,
   "name": "coursework-pegasus.ipynb",
   "provenance": [],
   "version": "0.3.2"
  },
  "kernelspec": {
   "display_name": "Python 3",
   "name": "python3"
  }
 },
 "nbformat": 4,
 "nbformat_minor": 0
}
